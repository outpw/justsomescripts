{
 "cells": [
  {
   "cell_type": "markdown",
   "metadata": {},
   "source": [
    "## Notebook for managing ArcGIS Online users\n",
    "\n",
    "#### Find inactive users, move their content, revoke licenses, and delete \n",
    "\n",
    "##### By [Phil White](mailto:philip.white@colorado.edu), Earth, Environment & Geospatial Librarian, University of Colorado Boulder  \n",
    "\n",
    "I'm on [GitHub](https:github.com/outpw)  \n",
    "\n",
    "Other stuff [here](https:outpw.github.io)\n",
    "\n",
    "And see [documentation for the ArcGIS API for Python](https://developers.arcgis.com/python/guide/install-and-set-up/)"
   ]
  },
  {
   "cell_type": "code",
   "execution_count": 23,
   "metadata": {},
   "outputs": [],
   "source": [
    "from arcgis.gis import GIS\n",
    "from arcgis.gis import ContentManager\n",
    "from datetime import datetime\n",
    "import csv\n",
    "import os"
   ]
  },
  {
   "cell_type": "markdown",
   "metadata": {},
   "source": [
    "Set your working directory. Double slashes on windows."
   ]
  },
  {
   "cell_type": "code",
   "execution_count": 24,
   "metadata": {},
   "outputs": [],
   "source": [
    "os.chdir('C:\\\\Users\\\\phwh9568\\\\AGOLpy')"
   ]
  },
  {
   "cell_type": "markdown",
   "metadata": {},
   "source": [
    "Connect and get your user list. I named mine ucb_ago because I work at UCB"
   ]
  },
  {
   "cell_type": "code",
   "execution_count": 4,
   "metadata": {},
   "outputs": [],
   "source": [
    "ucb_ago = GIS(\"https://ucboulder.maps.arcgis.com\", \"philip.white_ucboulder\", \"######\")"
   ]
  },
  {
   "cell_type": "markdown",
   "metadata": {},
   "source": [
    "Content Manager library is necessary for creating a new folder. This will be used when transfering inactive users' content."
   ]
  },
  {
   "cell_type": "code",
   "execution_count": 5,
   "metadata": {},
   "outputs": [],
   "source": [
    "cm = ContentManager(ucb_ago)"
   ]
  },
  {
   "cell_type": "markdown",
   "metadata": {},
   "source": [
    "View a user's role, last log-in, account creation date, and number of content items. I will use myself:"
   ]
  },
  {
   "cell_type": "code",
   "execution_count": 6,
   "metadata": {},
   "outputs": [
    {
     "name": "stdout",
     "output_type": "stream",
     "text": [
      "<User username:philip.white_ucboulder>\n",
      "org_admin\n",
      "1591724328000\n",
      "1462386963000\n",
      "265\n"
     ]
    }
   ],
   "source": [
    "me = ucb_ago.users.get('philip.white_ucboulder')\n",
    "\n",
    "role = me.role\n",
    "lastLogIn = me.lastLogin\n",
    "created = me.created\n",
    "itemCount = len(me.items(max_items = 1000)) #without using the max_item parameter, result will limit to 100\n",
    "print(me)\n",
    "print(role)\n",
    "print(lastLogIn)\n",
    "print(created)\n",
    "print(itemCount)"
   ]
  },
  {
   "cell_type": "markdown",
   "metadata": {},
   "source": [
    "Note: This uses Unix epoch timestamp in miliseconds. You can make this human readable using datetime.fromtimestamp, but you must also divide the unix time by 1000 because fromtimestamp doesn't like milliseconds. ¯\\\\_(ツ)_/¯ Go figure."
   ]
  },
  {
   "cell_type": "code",
   "execution_count": 7,
   "metadata": {},
   "outputs": [
    {
     "name": "stdout",
     "output_type": "stream",
     "text": [
      "Role = org_admin\n",
      "Last Log-in =  2020-06-09 11:38:48\n",
      "Created Date =  2016-05-04 12:36:03\n",
      "Item Count =  265\n"
     ]
    }
   ],
   "source": [
    "Last_logIn_date = datetime.fromtimestamp(lastLogIn/1000)\n",
    "Created_date = datetime.fromtimestamp(created/1000)\n",
    "\n",
    "print(\"Role =\", role)\n",
    "print(\"Last Log-in = \", Last_logIn_date)\n",
    "print(\"Created Date = \", Created_date)\n",
    "print(\"Item Count = \", itemCount)"
   ]
  },
  {
   "cell_type": "markdown",
   "metadata": {},
   "source": [
    "#### We will use created dates, last log-in dates, and item counts to determine which accounts are active and inactive.\n",
    "\n",
    "Start by pulling the entire list of your AGO organization's users:"
   ]
  },
  {
   "cell_type": "code",
   "execution_count": 8,
   "metadata": {},
   "outputs": [],
   "source": [
    "ucb_users = ucb_ago.users.search(max_users = 2000)"
   ]
  },
  {
   "cell_type": "markdown",
   "metadata": {},
   "source": [
    "Use len() to tally your organization's users. Should be the same as your total users in the AGO web-interface"
   ]
  },
  {
   "cell_type": "code",
   "execution_count": 9,
   "metadata": {},
   "outputs": [
    {
     "data": {
      "text/plain": [
       "1437"
      ]
     },
     "execution_count": 9,
     "metadata": {},
     "output_type": "execute_result"
    }
   ],
   "source": [
    "len(ucb_users) # print (ucb_users) would list every user name"
   ]
  },
  {
   "cell_type": "markdown",
   "metadata": {},
   "source": [
    "View accounts that have never logged in. We can find users' last log in date using .lastLogin and account creation date using .created. You can convert a date to Unix style here: https://www.epochconverter.com/. If date/time is less than 1, the user has never logged in. >0 and they have logged in at least once. "
   ]
  },
  {
   "cell_type": "code",
   "execution_count": 10,
   "metadata": {},
   "outputs": [
    {
     "data": {
      "text/plain": [
       "277"
      ]
     },
     "execution_count": 10,
     "metadata": {},
     "output_type": "execute_result"
    }
   ],
   "source": [
    "NeverLoggedIn = list([])\n",
    "for user in ucb_users:\n",
    "    if user.lastLogin < 1:\n",
    "        NeverLoggedIn.append(user.username)\n",
    "        #print(user.username)\n",
    "        #print(user.created)\n",
    "len(NeverLoggedIn)"
   ]
  },
  {
   "cell_type": "markdown",
   "metadata": {},
   "source": [
    "You may want to make an ignore list. Esri provides the following in their [documentation](https://developers.arcgis.com/python/guide/accessing-and-managing-users/). I left these in as an example, even though these accounts do not exist in my organization.  \n",
    "\n",
    "You may, however, want to use an ignore list if you want to keep certain users out of this process, like administrators."
   ]
  },
  {
   "cell_type": "code",
   "execution_count": 11,
   "metadata": {},
   "outputs": [],
   "source": [
    "ignore_list = ['sitelic', 'philip.white_ucboulder'] #myself and another admin account"
   ]
  },
  {
   "cell_type": "markdown",
   "metadata": {},
   "source": [
    "#### Now let's divide our users into separate lists... those we may want to delete and those we do not.\n",
    "\n",
    "We will find the following:  \n",
    "1. Users whose accounts were created before a certain time that have never logged in (inactive, **to delete**)  \n",
    "2. Users whose accounts were created after a certain time that have never logged in (inactive, but new--**keep**)  \n",
    "3. Users that have not logged in since before a certain time and have no content (inactive, **to delete**)  \n",
    "4. Users that have logged in since a certain time and have no content (inactive, but new--**keep**)  \n",
    "5. Users that have not logged in since before a certain time and have content (inactive, **delete, but will email them first and will have to transfer ownership of content**)  \n",
    "6. Users that have logged in since a certain time and have content (active users, **keep**)\n",
    "\n",
    "First, accounts created before a certain time that have never logged in. This example will find users whose accounts were created before Sept 1 2018 that have never logged in. Note: This uses time in Unix epoch in miliseconds. You can convert a date to Unix style here: https://www.epochconverter.com/. Sept 1 2018 at midnight is 1535760000000 in Unix epoch time."
   ]
  },
  {
   "cell_type": "code",
   "execution_count": 12,
   "metadata": {},
   "outputs": [
    {
     "data": {
      "text/plain": [
       "0"
      ]
     },
     "execution_count": 12,
     "metadata": {},
     "output_type": "execute_result"
    }
   ],
   "source": [
    "#Accounts created prior to Sept 1 2018 that have never logged in\n",
    "Created1yrago_Never = list([])\n",
    "for user in ucb_users:\n",
    "    if not user.username in ignore_list:\n",
    "        if user.created < 1504569600000:\n",
    "            if user.lastLogin < 1:\n",
    "                Created1yrago_Never.append(user.username)\n",
    "                #print(user.username)\n",
    "                #print(user.created)\n",
    "\n",
    "len(Created1yrago_Never) #note: I already deleted these, so zero left in this example."
   ]
  },
  {
   "cell_type": "markdown",
   "metadata": {},
   "source": [
    "Now let's make a list of users whose accounts were created after Sept. 1, 2018, but have never logged in. We'll keep these (for now!). "
   ]
  },
  {
   "cell_type": "code",
   "execution_count": 13,
   "metadata": {},
   "outputs": [
    {
     "data": {
      "text/plain": [
       "277"
      ]
     },
     "execution_count": 13,
     "metadata": {},
     "output_type": "execute_result"
    }
   ],
   "source": [
    "#Accounts created since Sept 1 2018 that have never logged in\n",
    "CreatedPastYear_Never = list([])\n",
    "for user in ucb_users:\n",
    "    if not user.username in ignore_list:\n",
    "        if user.created > 1504569600000:\n",
    "            if user.lastLogin < 1:\n",
    "                CreatedPastYear_Never.append(user.username)\n",
    "                #print(user.username)\n",
    "                #print(user.created)\n",
    "\n",
    "len(CreatedPastYear_Never)"
   ]
  },
  {
   "cell_type": "markdown",
   "metadata": {},
   "source": [
    "Now let's make a list of users whose accounts are more than a year old, but have not logged in since before September 2018 and have no content. These we can delete. This may take a little time to run."
   ]
  },
  {
   "cell_type": "code",
   "execution_count": 14,
   "metadata": {},
   "outputs": [
    {
     "data": {
      "text/plain": [
       "67"
      ]
     },
     "execution_count": 14,
     "metadata": {},
     "output_type": "execute_result"
    }
   ],
   "source": [
    "#Accounts created prior to Sept 1 2018, have not logged in since before Sept 1 2018 and have no content\n",
    "OneYrNoLogIn_NoContent = list([])\n",
    "for user in ucb_users:\n",
    "    if not user.username in ignore_list:\n",
    "        if user.created < 1504569600000:\n",
    "            if user.lastLogin < 1504569600000:\n",
    "                if len(user.items()) <1:\n",
    "                    OneYrNoLogIn_NoContent.append(user.username)\n",
    "                    #print(user.username)\n",
    "                    #print(user.created)\n",
    "\n",
    "len(OneYrNoLogIn_NoContent)"
   ]
  },
  {
   "cell_type": "markdown",
   "metadata": {},
   "source": [
    "Next we'll make a list of users that have logged in since Sept. 1, 2018, but do not have content. We'll call these accounts \"latent\"... maybe they will create something? Maybe not! We will keep them for now,  but we can delete them next year if they remain completely inactive.  \n",
    "\n",
    "This will take a few minutes to run."
   ]
  },
  {
   "cell_type": "code",
   "execution_count": 15,
   "metadata": {},
   "outputs": [
    {
     "data": {
      "text/plain": [
       "438"
      ]
     },
     "execution_count": 15,
     "metadata": {},
     "output_type": "execute_result"
    }
   ],
   "source": [
    "#Accounts that have logged in since Sept 1 2018 and have no content\n",
    "OneYrLogIn_NoContent = list([])\n",
    "for user in ucb_users:\n",
    "    if not user.username in ignore_list:\n",
    "        if user.lastLogin > 1504569600000:\n",
    "            if len(user.items()) <1:\n",
    "                OneYrLogIn_NoContent.append(user.username)\n",
    "                #print(user.username)\n",
    "                #print(user.created)\n",
    "\n",
    "len(OneYrLogIn_NoContent)"
   ]
  },
  {
   "cell_type": "markdown",
   "metadata": {},
   "source": [
    "Now we'll make a list of all of the users who have not logged in since prior to September 2018 who have content. These users will potentially be deleted, but first we will email them and check if they want to keep their account. Users deleted from this list will need their content deleted or moved to another account."
   ]
  },
  {
   "cell_type": "code",
   "execution_count": 16,
   "metadata": {},
   "outputs": [
    {
     "data": {
      "text/plain": [
       "84"
      ]
     },
     "execution_count": 16,
     "metadata": {},
     "output_type": "execute_result"
    }
   ],
   "source": [
    "#Accounts created prior to Sept 1 2018, have not logged in since before Sept 1 2018 and HAVE content\n",
    "OneYrNoLogIn_Content = list([])\n",
    "for user in ucb_users:\n",
    "    if not user.username in ignore_list:\n",
    "        #if user.created < 1504569600000:\n",
    "        if user.lastLogin > 1:\n",
    "            if user.lastLogin < 1504569600000:\n",
    "                if len(user.items()) > 0:\n",
    "                    OneYrNoLogIn_Content.append(user.username)\n",
    "                    #print(user.username)\n",
    "                    #print(user.created)\n",
    "\n",
    "len(OneYrNoLogIn_Content)"
   ]
  },
  {
   "cell_type": "markdown",
   "metadata": {},
   "source": [
    "Finally, we will produce a list of users that have logged in since Sept. 1, 2018 and also have content. We assume these users are active and we will not delete their accounts.  \n",
    "\n",
    "This one will take a few minutes to run."
   ]
  },
  {
   "cell_type": "code",
   "execution_count": 17,
   "metadata": {},
   "outputs": [
    {
     "data": {
      "text/plain": [
       "569"
      ]
     },
     "execution_count": 17,
     "metadata": {},
     "output_type": "execute_result"
    }
   ],
   "source": [
    "#Accounts created prior to Sept 1 2018, HAVE logged in since Sept 1 2018 and HAVE content\n",
    "OneYrLogIn_Content = list([])\n",
    "for user in ucb_users:\n",
    "    if not user.username in ignore_list:\n",
    "        if user.lastLogin > 1504569600000:\n",
    "            if len(user.items()) > 0:\n",
    "                OneYrLogIn_Content.append(user.username)\n",
    "                #print(user.username)\n",
    "                #print(user.created)\n",
    "\n",
    "len(OneYrLogIn_Content)"
   ]
  },
  {
   "cell_type": "markdown",
   "metadata": {},
   "source": [
    "These 6 lists should account for all of your users.   \n",
    "\n",
    "Do the math by adding together the length (len) of all 6 lists. Notice I subtracted the ignore list)"
   ]
  },
  {
   "cell_type": "code",
   "execution_count": 18,
   "metadata": {},
   "outputs": [
    {
     "name": "stdout",
     "output_type": "stream",
     "text": [
      "1435\n",
      "Yay!\n"
     ]
    }
   ],
   "source": [
    "allUsers = len(OneYrLogIn_Content)+len(OneYrNoLogIn_Content)+len(OneYrLogIn_NoContent)+len(OneYrNoLogIn_NoContent)+len(CreatedPastYear_Never)+len(Created1yrago_Never)\n",
    "\n",
    "if allUsers == len(ucb_users) - len(ignore_list):\n",
    "    print (allUsers)\n",
    "    print (\"Yay!\")\n",
    "else:\n",
    "    print (allUsers)\n",
    "    print (\"... oops.\")"
   ]
  },
  {
   "cell_type": "markdown",
   "metadata": {},
   "source": [
    "#### Now that you've identified users to delete, you should probably send an email to the OneYrNoLogIn_Content list to double check that you can delete their accounts. \n",
    "\n",
    "We will write those users' names, emails, and roles to a csv. \n",
    "\n",
    "*Note:* I encountered a problem with pulling the first name and last name separately of certain accounts that were more than a few years old. I suppose the account creation process has changed over the years and may not have originally separated first and last name (well, that's my best guess). However, everyone has a full name, so I just grabbed that instead of doing anything more complicated.  \n",
    "\n",
    "Also, I discovered an administrator on this list and I added an if statement that passed over any administrator accounts because I don't want to mess with those."
   ]
  },
  {
   "cell_type": "code",
   "execution_count": 20,
   "metadata": {},
   "outputs": [],
   "source": [
    "with open('OneYrNoLogIn_Content.csv', 'w', newline = '') as f: \n",
    "    writer = csv.writer(f)\n",
    "    writer.writerow(['Name','User Name','Email', 'Role'])\n",
    "    for user in OneYrNoLogIn_Content:\n",
    "        account = ucb_ago.users.get(user)\n",
    "        if account.role == 'org_admin': #Just in case there is an admin on this list, we will skip them.\n",
    "            pass\n",
    "        else:\n",
    "            fullName = account.fullName\n",
    "            email = account.email\n",
    "            role = account.role\n",
    "            writer.writerow([fullName, user, email, role])"
   ]
  },
  {
   "cell_type": "markdown",
   "metadata": {},
   "source": [
    "Check your working directory and you should now have a csv with name and emails of all the users' whose accounts you should check before deleting.  \n",
    "\n",
    "From here, you can do something like a mailmerge to email all of them. Anyone who wants to keep their accounts just needs to log in. Then, you can rerun the OneYrNoLogIn_Content list and they will be removed and should then appear on the OneYrLogIn_Content list that is not slated for deletion.  \n",
    "\n",
    "*Sweet!*  \n",
    "\n",
    "Give those people some time to respond... \n",
    "\n",
    "... Okay, ready?  \n",
    "\n",
    "Let's put together our three lists of users we plan to delete into one list:"
   ]
  },
  {
   "cell_type": "code",
   "execution_count": 21,
   "metadata": {},
   "outputs": [
    {
     "data": {
      "text/plain": [
       "151"
      ]
     },
     "execution_count": 21,
     "metadata": {},
     "output_type": "execute_result"
    }
   ],
   "source": [
    "deleteList = OneYrNoLogIn_Content + OneYrNoLogIn_NoContent + Created1yrago_Never\n",
    "\n",
    "len(deleteList)"
   ]
  },
  {
   "cell_type": "code",
   "execution_count": 25,
   "metadata": {},
   "outputs": [
    {
     "name": "stdout",
     "output_type": "stream",
     "text": [
      "['afzalan_ucboulder', 'ansm0399_ucboulder', 'aran0238_ucboulder', 'begr5871_ucboulder', 'Brian.Ferry_ucboulder', 'brian.lightfoot_ucboulder', 'Brittany.Reed_ucboulder', 'charles.ahlborn_ucboulder', 'clare.stumpf_ucboulder', 'dage9309_ucboulder', 'daro7411_ucboulder', 'deas0531_ucboulder', 'decr7697_ucboulder', 'derya.senol_ucboulder', 'Duncan.Miller_ucboulder', 'elise.gowen_ucboulder', 'elma7087_ucboulder', 'elwe2825_ucboulder', 'Emiley.Sickels_ucboulder', 'emke3075_ucboulder', 'eva.coringrato_ucboulder', 'Francisco.Perez_ucboulder', 'galen.murton_ucboulder', 'gianfranco.sotomayor_ucboulder', 'gregfauchet@gmail.com', 'Hannah.Cope_ucboulder', 'harsha.maragh_ucboulder', 'ian.w.bishop_ucboulder', 'ilas7344_ucboulder', 'jaci0087_ucboulder', 'james.fudge_ucboulder', 'jean.russell_ucboulder', 'jessica.fleck_ucboulder', 'jill.litt_ucboulder', 'Johu9721_ucboulder', 'Jordan.Kaschinske_ucboulder', 'Jose.Ortiz_1_ucboulder', 'julia.daniel_ucboulder', 'karo4560_ucboulder', 'kathryn.browning_ucboulder', 'katielage', 'Kenneth.Olugbode_ucboulder', 'kero0348_ucboulder', 'kimc1010_ucboulder', 'kyma2860_ucboulder', 'laje1276_ucboulder', 'laura.malaver_ucboulder', 'li.yao_ucboulder', 'lucy.cheadle_ucboulder', 'luse0148_ucboulder', 'mabe2805_ucboulder', 'mala4178_ucboulder', 'Marisa.Merola_ucboulder', 'matthew.butner_ucboulder', 'matthew.weinga_ucboulder', 'Megan.C.Kinney_ucboulder', 'mepa4491_ucboulder', 'mika.ulmet_ucboulder', 'Moos0718_ucboulder', 'morgan.cassidy_ucboulder', 'nathan.h.lee_ucboulder', 'nawh8903_ucboulder', 'Nere4817_ucboulder', 'Nicholas.Paparo_ucboulder', 'niwi4835_ucboulder', 'penina.axelrad_ucboulder', 'phhu1233_ucboulder', 'Prasanth.Prahl_ucboulder', 'rysc7426_ucboulder', 'samuel.krasnobrod_ucboulder', 'scott.carman_ucboulder', 'seth.spielman_ucboulder', 'sola1447_ucboulder', 'sphu4472_ucboulder', 'stephanie.mordoh_ucboulder', 'stpa3386_ucboulder', 'Thomas.orabuena_ucboulder', 'tianah.spear_ucboulder', 'tiffany.tran_ucboulder', 'tyfa8476_ucboulder', 'udayan.reddy_ucboulder', 'vame4708_ucboulder', 'wimc1246_ucboulder', 'Wipa6995_ucboulder', 'aaron.siegel_ucboulder', 'alec.brazeau_ucboulder', 'allison.ildefonso_ucboulder', 'andrew.seamone_ucboulder', 'anja.semanco_ucboulder', 'anna.kaelin_ucboulder5', 'ashley.mcleod_ucboulder', 'atreyee.bhattacharya_ucboulder', 'autumn.spanne_ucboulder', 'b.jason.west_ucboulder', 'bebe.chang_ucboulder', 'brda2536_ucboulder', 'brmi5922_ucboulder', 'Bunyamin.Yilma_ucboulder', 'burt.hubbard_ucboulder', 'caitlyn.leythampowell_ucboulder', 'chad.franzen_ucboulder', 'daniel.paiz_ucboulder', 'david.gallaher_ucboulder', 'diane.fritz_ucboulder', 'emma.gibson_ucboulder', 'Erica.vansteenis_ucboulder', 'George.Hernandez_ucboulder', 'Ginnie.logan_ucboulder', 'ibssupport_ucboulder', 'jacob.heins_ucboulder', 'jefferson.yarce_ucboulder', 'jeha7380_ucboulder', 'kahu8188_ucboulder', 'kama8769_ucboulder', 'katherine.allison_ucboulder', 'katherine.e.hale_ucboulder', 'Kathleen.Weimer_ucboulder', 'kelsey.p.draper_ucboulder', 'kyry1010_ucboulder', 'laura.wreschnig_ucboulder', 'lauren.a.price_ucboulder', 'leng.khoo_ucboulder', 'lere7005_ucboulder', 'levin.sliker_ucboulder', 'lindsay.m.roberts_ucboulder', 'lisa.potter_ucboulder', 'maba7970_ucboulder', 'mallika.jayaraman_ucboulder', 'mark.trautmann_ucboulder', 'matthew.rossi_ucboulder', 'meagan.dsouza_ucboulder', 'melissa.harden_ucboulder', 'michelle.desmarais_ucboulder', 'mide9770_ucboulder', 'mitchell.utterback_ucboulder', 'qi.liu_ucboulder', 'Rachel.Fenn_ucboulder', 'renee.mcvay_ucboulder', 'samantha.kosloske_ucboulder', 'samuel.leon_ucboulder', 'sawo0610_ucboulder', 'sean.m.martin_ucboulder', 'shae.rupinsky_ucboulder', 'shiue_ucboulder', 'suca6767_ucboulder', 'tasm4075_ucboulder', 'terrenda.white_ucboulder', 'tyler.streb_ucboulder', 'victor.carterjr_ucboulder', 'whitecot_ucboulder', 'won.jang_ucboulder']\n"
     ]
    }
   ],
   "source": [
    "print(deleteList)"
   ]
  },
  {
   "cell_type": "markdown",
   "metadata": {},
   "source": [
    "Double check that it is right:"
   ]
  },
  {
   "cell_type": "code",
   "execution_count": 22,
   "metadata": {},
   "outputs": [
    {
     "name": "stdout",
     "output_type": "stream",
     "text": [
      "ucb_users =  1435\n",
      "151 + 1284 = 1435\n",
      "All good!\n"
     ]
    }
   ],
   "source": [
    "keepList = CreatedPastYear_Never + OneYrLogIn_NoContent + OneYrLogIn_Content\n",
    "\n",
    "if len(deleteList) == (len(ucb_users) - len(ignore_list)) - len(keepList):\n",
    "    print ('ucb_users = ', len(ucb_users) - len(ignore_list))\n",
    "    print (len(deleteList), \"+\", len(keepList), \"=\", (len(keepList)+len(deleteList)))\n",
    "    print ('All good!')\n",
    "else:\n",
    "    print ('ucb_users = ', len(ucb_users))\n",
    "    print (len(deleteList), \"+\", len(keepList), \"=\", (len(keepList)+len(deleteList)))\n",
    "    print ('...woops')"
   ]
  },
  {
   "cell_type": "markdown",
   "metadata": {},
   "source": [
    "## Deleting Users! Proceed with caution!\n",
    "\n",
    "Now that you're ready to delete users, there are a few steps to be taken. Users must not have any content nor any licenses. Also, if they have items shared with a group, those items will need to be removed from the group (this is accomplished by removing the inactive user from the account. Without all of these criteria being met, you cannot delete them.  \n",
    "\n",
    "First, if they have content, you will need to either delete it all or move it to another account. In our case, we decided to err on the side of caution. Ownership of all of this content will be transferred to our principal admin account named 'sitelic'. This is important because if people (for example, graduates) want to access web maps and apps they've created in the future, they will not be deleted and their web addresses will be preserved.  \n",
    "\n",
    "The script below runs a loop over the delete list. For each inactive user, it will create a folder based on their username in the sitelic account content and place all of their content in that folder. Share settings will be preserved. \n",
    "\n",
    "First, if a user is a part of a group, it will identify items that are shared with the group and move those items first, setting their share setting to public. Then, it will look through the user's root folder and move those items to their destination folder in sitelic. Next, if the user has content in any subfolders, it will look through each folder and move those items. Empty folders will then be deleted.\n",
    "\n",
    "Then, licenses and extensions will be revoked. The only licenses I regularly hand out are for Pro, Community Analyst, and Business Analyst. If you have other licenses you turn of for folks regularly, you may want to add them to this list. \n",
    "\n",
    "Finally, it will delete the user and repeat for the whole process for the next on the delete.\n",
    "\n",
    "In the event that a user can't be deleted for some reason (either a content item couldn't be moved for some reason, or they have some other license turned on, it will skip them and print their username which you can go and investigate later. "
   ]
  },
  {
   "cell_type": "code",
   "execution_count": 25,
   "metadata": {},
   "outputs": [
    {
     "data": {
      "text/plain": [
       "[<ArcGIS Insights License at https://ucboulder.maps.arcgis.com/sharing/rest/>,\n",
       " <Redistricting Online License at https://ucboulder.maps.arcgis.com/sharing/rest/>,\n",
       " <ArcGIS Pro License at https://ucboulder.maps.arcgis.com/sharing/rest/>,\n",
       " <ArcGIS Maps for Power BI License at https://ucboulder.maps.arcgis.com/sharing/rest/>,\n",
       " <GeoPlanner for ArcGIS License at https://ucboulder.maps.arcgis.com/sharing/rest/>,\n",
       " <AppStudio for ArcGIS License at https://ucboulder.maps.arcgis.com/sharing/rest/>,\n",
       " <ArcGIS Community Analyst License at https://ucboulder.maps.arcgis.com/sharing/rest/>,\n",
       " <Admin Tools for ArcGIS℠ Online License at https://ucboulder.maps.arcgis.com/sharing/rest/>,\n",
       " <ArcGIS Business Analyst Web and Mobile Apps License at https://ucboulder.maps.arcgis.com/sharing/rest/>,\n",
       " <CityEngine License at https://ucboulder.maps.arcgis.com/sharing/rest/>]"
      ]
     },
     "execution_count": 25,
     "metadata": {},
     "output_type": "execute_result"
    }
   ],
   "source": [
    "#FYI: you can view all of the potential licenses here:\n",
    "ucb_ago.admin.license.all()"
   ]
  },
  {
   "cell_type": "code",
   "execution_count": null,
   "metadata": {},
   "outputs": [],
   "source": [
    "#Transfers a user's content to another account. \n",
    "#If a user in the delete list is an admin, they will get passed on.\n",
    "#This will first check to see if the user is part of any groups and transfer any group content to the dump account, \n",
    "#updating these group items to public. Then it will remove the user from any groups. \n",
    "#Next it look through the user's root folder and move those items \n",
    "#then through each of the user's folders moving those items\n",
    "#Then it will delete the user's empty folders\n",
    "#Finally, it will revoke all licenses and priveleges and delete the user account.\n",
    "#If a user can't be deleted for some reason it will print out the username\n",
    "\n",
    "\n",
    "for userName in deleteList:\n",
    "    user = ucb_ago.users.get(userName)\n",
    "    if user.role == 'org_admin':\n",
    "        pass\n",
    "    else:\n",
    "        cm.create_folder(folder = userName, owner = 'sitelic')\n",
    "\n",
    "    \n",
    "        groups = user.groups\n",
    "        groupItems = []\n",
    "\n",
    "        for group in groups:\n",
    "            groupContent = group.content()\n",
    "            for item in groupContent:\n",
    "                if item['owner'] == user.username:\n",
    "                    groupItems.append(item)\n",
    "            if group.owner == user.username:\n",
    "                group.reassign_to('sitelic')\n",
    "            group.remove_users([user.username])\n",
    "\n",
    "        for item in groupItems:\n",
    "            try:\n",
    "                item.reassign_to('sitelic', target_folder = userName)\n",
    "                item.share(everyone=True)\n",
    "            except:\n",
    "                pass\n",
    "\n",
    "        userContent = user.items()\n",
    "        userFolders = user.folders\n",
    "\n",
    "\n",
    "        for item in userContent:\n",
    "            try:\n",
    "                item.reassign_to('sitelic', target_folder = userName)\n",
    "            except: \n",
    "                pass\n",
    "\n",
    "        for folder in userFolders:\n",
    "            folderName = (folder['title'])\n",
    "            folderItems = user.items(folderName)\n",
    "            for item in folderItems:\n",
    "                try:\n",
    "                    item.reassign_to('sitelic', target_folder = userName)\n",
    "                except: \n",
    "                    pass\n",
    "            cm.delete_folder(folder=folderName, owner = user.username)\n",
    "\n",
    "        pro_license.revoke(username=userName, entitlements='*')\n",
    "        community_license.revoke(username=userName, entitlements = '*')\n",
    "        business_license.revoke(username=userName, entitlements = '*')\n",
    "\n",
    "        try:\n",
    "            user.delete()\n",
    "        except:\n",
    "            print(userName)\n",
    "            pass"
   ]
  },
  {
   "cell_type": "markdown",
   "metadata": {},
   "source": [
    "## Done!\n",
    "\n",
    "Your recipient should now have a bunch of new folders containing deleted users' content. If any exceptions occurred, you can review the printed out names to investigate those accounts. "
   ]
  },
  {
   "cell_type": "code",
   "execution_count": null,
   "metadata": {},
   "outputs": [],
   "source": []
  }
 ],
 "metadata": {
  "kernelspec": {
   "display_name": "Python 3 (ipykernel)",
   "language": "python",
   "name": "python3"
  },
  "language_info": {
   "codemirror_mode": {
    "name": "ipython",
    "version": 3
   },
   "file_extension": ".py",
   "mimetype": "text/x-python",
   "name": "python",
   "nbconvert_exporter": "python",
   "pygments_lexer": "ipython3",
   "version": "3.7.4"
  }
 },
 "nbformat": 4,
 "nbformat_minor": 2
}
