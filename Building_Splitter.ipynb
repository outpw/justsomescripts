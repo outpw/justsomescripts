{
 "cells": [
  {
   "cell_type": "markdown",
   "metadata": {},
   "source": [
    "### For splitting the microsoft buildings layer into county level shapefiles!\n",
    "\n",
    "OG data can be found here: https://github.com/microsoft/USBuildingFootprints"
   ]
  },
  {
   "cell_type": "code",
   "execution_count": 2,
   "metadata": {},
   "outputs": [],
   "source": [
    "import pandas as pd\n",
    "import geopandas as gpd\n",
    "import os\n",
    "import matplotlib.pyplot as plt"
   ]
  },
  {
   "cell_type": "code",
   "execution_count": 3,
   "metadata": {},
   "outputs": [],
   "source": [
    "os.chdir('C:\\\\Users\\\\phwh9568\\\\Data')"
   ]
  },
  {
   "cell_type": "markdown",
   "metadata": {},
   "source": [
    "Import the buildings layer: \n",
    "\n",
    "(this may take a while)"
   ]
  },
  {
   "cell_type": "code",
   "execution_count": 4,
   "metadata": {},
   "outputs": [],
   "source": [
    "buildings = gpd.read_file('Colorado_Microsoft_Footprints\\\\Colorado.geojson')"
   ]
  },
  {
   "cell_type": "code",
   "execution_count": 5,
   "metadata": {},
   "outputs": [
    {
     "data": {
      "text/plain": [
       "2080808"
      ]
     },
     "execution_count": 5,
     "metadata": {},
     "output_type": "execute_result"
    }
   ],
   "source": [
    "len(buildings)"
   ]
  },
  {
   "cell_type": "code",
   "execution_count": 6,
   "metadata": {},
   "outputs": [
    {
     "data": {
      "text/plain": [
       "Index(['geometry'], dtype='object')"
      ]
     },
     "execution_count": 6,
     "metadata": {},
     "output_type": "execute_result"
    }
   ],
   "source": [
    "buildings.columns"
   ]
  },
  {
   "cell_type": "markdown",
   "metadata": {},
   "source": [
    "Import the US counties tigerline file:"
   ]
  },
  {
   "cell_type": "code",
   "execution_count": 7,
   "metadata": {},
   "outputs": [],
   "source": [
    "countyUS = gpd.read_file('tl_2019_us_county\\\\tl_2019_us_county.shp')"
   ]
  },
  {
   "cell_type": "markdown",
   "metadata": {},
   "source": [
    "Check the CRS of the county layer:"
   ]
  },
  {
   "cell_type": "code",
   "execution_count": 8,
   "metadata": {},
   "outputs": [
    {
     "data": {
      "text/plain": [
       "{'init': 'epsg:4269'}"
      ]
     },
     "execution_count": 8,
     "metadata": {},
     "output_type": "execute_result"
    }
   ],
   "source": [
    "countyUS.crs"
   ]
  },
  {
   "cell_type": "markdown",
   "metadata": {},
   "source": [
    "Reset the county layer's CRS to WGS84 (same as buildings layer)"
   ]
  },
  {
   "cell_type": "code",
   "execution_count": 9,
   "metadata": {},
   "outputs": [],
   "source": [
    "countyUS = countyUS.to_crs({'init': 'epsg:4326'})"
   ]
  },
  {
   "cell_type": "code",
   "execution_count": 10,
   "metadata": {},
   "outputs": [
    {
     "data": {
      "text/plain": [
       "{'init': 'epsg:4326'}"
      ]
     },
     "execution_count": 10,
     "metadata": {},
     "output_type": "execute_result"
    }
   ],
   "source": [
    "countyUS.crs"
   ]
  },
  {
   "cell_type": "markdown",
   "metadata": {},
   "source": [
    "Isolate Colorado counties:"
   ]
  },
  {
   "cell_type": "code",
   "execution_count": 11,
   "metadata": {},
   "outputs": [],
   "source": [
    "Colorado_Counties = countyUS.loc[countyUS['STATEFP'] == '08']"
   ]
  },
  {
   "cell_type": "markdown",
   "metadata": {},
   "source": [
    "Drop unnecessary fields:"
   ]
  },
  {
   "cell_type": "code",
   "execution_count": 12,
   "metadata": {},
   "outputs": [],
   "source": [
    "Colorado_Counties = Colorado_Counties[['NAMELSAD', 'geometry']]"
   ]
  },
  {
   "cell_type": "code",
   "execution_count": 13,
   "metadata": {},
   "outputs": [
    {
     "data": {
      "text/html": [
       "<div>\n",
       "<style scoped>\n",
       "    .dataframe tbody tr th:only-of-type {\n",
       "        vertical-align: middle;\n",
       "    }\n",
       "\n",
       "    .dataframe tbody tr th {\n",
       "        vertical-align: top;\n",
       "    }\n",
       "\n",
       "    .dataframe thead th {\n",
       "        text-align: right;\n",
       "    }\n",
       "</style>\n",
       "<table border=\"1\" class=\"dataframe\">\n",
       "  <thead>\n",
       "    <tr style=\"text-align: right;\">\n",
       "      <th></th>\n",
       "      <th>NAMELSAD</th>\n",
       "      <th>geometry</th>\n",
       "    </tr>\n",
       "  </thead>\n",
       "  <tbody>\n",
       "    <tr>\n",
       "      <td>22</td>\n",
       "      <td>Saguache County</td>\n",
       "      <td>POLYGON ((-106.87140 37.94189, -106.87199 37.9...</td>\n",
       "    </tr>\n",
       "    <tr>\n",
       "      <td>106</td>\n",
       "      <td>Sedgwick County</td>\n",
       "      <td>POLYGON ((-102.65211 40.88463, -102.65211 40.8...</td>\n",
       "    </tr>\n",
       "    <tr>\n",
       "      <td>123</td>\n",
       "      <td>Cheyenne County</td>\n",
       "      <td>POLYGON ((-102.57685 39.04068, -102.56133 39.0...</td>\n",
       "    </tr>\n",
       "    <tr>\n",
       "      <td>162</td>\n",
       "      <td>Custer County</td>\n",
       "      <td>POLYGON ((-105.79690 38.26505, -105.78341 38.2...</td>\n",
       "    </tr>\n",
       "    <tr>\n",
       "      <td>199</td>\n",
       "      <td>La Plata County</td>\n",
       "      <td>POLYGON ((-108.29516 37.21501, -108.29460 37.2...</td>\n",
       "    </tr>\n",
       "    <tr>\n",
       "      <td>...</td>\n",
       "      <td>...</td>\n",
       "      <td>...</td>\n",
       "    </tr>\n",
       "    <tr>\n",
       "      <td>2947</td>\n",
       "      <td>Mesa County</td>\n",
       "      <td>POLYGON ((-109.05148 39.11650, -109.05147 39.1...</td>\n",
       "    </tr>\n",
       "    <tr>\n",
       "      <td>2992</td>\n",
       "      <td>Dolores County</td>\n",
       "      <td>POLYGON ((-108.82052 37.88085, -108.82050 37.8...</td>\n",
       "    </tr>\n",
       "    <tr>\n",
       "      <td>2998</td>\n",
       "      <td>Arapahoe County</td>\n",
       "      <td>MULTIPOLYGON (((-104.79137 39.56609, -104.7928...</td>\n",
       "    </tr>\n",
       "    <tr>\n",
       "      <td>3151</td>\n",
       "      <td>Las Animas County</td>\n",
       "      <td>POLYGON ((-105.02459 37.34849, -105.02459 37.3...</td>\n",
       "    </tr>\n",
       "    <tr>\n",
       "      <td>3176</td>\n",
       "      <td>Grand County</td>\n",
       "      <td>POLYGON ((-106.08984 40.35006, -106.08932 40.3...</td>\n",
       "    </tr>\n",
       "  </tbody>\n",
       "</table>\n",
       "<p>64 rows × 2 columns</p>\n",
       "</div>"
      ],
      "text/plain": [
       "               NAMELSAD                                           geometry\n",
       "22      Saguache County  POLYGON ((-106.87140 37.94189, -106.87199 37.9...\n",
       "106     Sedgwick County  POLYGON ((-102.65211 40.88463, -102.65211 40.8...\n",
       "123     Cheyenne County  POLYGON ((-102.57685 39.04068, -102.56133 39.0...\n",
       "162       Custer County  POLYGON ((-105.79690 38.26505, -105.78341 38.2...\n",
       "199     La Plata County  POLYGON ((-108.29516 37.21501, -108.29460 37.2...\n",
       "...                 ...                                                ...\n",
       "2947        Mesa County  POLYGON ((-109.05148 39.11650, -109.05147 39.1...\n",
       "2992     Dolores County  POLYGON ((-108.82052 37.88085, -108.82050 37.8...\n",
       "2998    Arapahoe County  MULTIPOLYGON (((-104.79137 39.56609, -104.7928...\n",
       "3151  Las Animas County  POLYGON ((-105.02459 37.34849, -105.02459 37.3...\n",
       "3176       Grand County  POLYGON ((-106.08984 40.35006, -106.08932 40.3...\n",
       "\n",
       "[64 rows x 2 columns]"
      ]
     },
     "execution_count": 13,
     "metadata": {},
     "output_type": "execute_result"
    }
   ],
   "source": [
    "Colorado_Counties"
   ]
  },
  {
   "cell_type": "code",
   "execution_count": 9,
   "metadata": {},
   "outputs": [
    {
     "data": {
      "text/plain": [
       "<matplotlib.axes._subplots.AxesSubplot at 0x1c3deaa0c08>"
      ]
     },
     "execution_count": 9,
     "metadata": {},
     "output_type": "execute_result"
    },
    {
     "data": {
      "image/png": "[encoded data removed]",
      "text/plain": [
       "<Figure size 432x288 with 1 Axes>"
      ]
     },
     "metadata": {
      "needs_background": "light"
     },
     "output_type": "display_data"
    }
   ],
   "source": [
    "Colorado_Counties.plot()"
   ]
  },
  {
   "cell_type": "markdown",
   "metadata": {},
   "source": [
    "### Time to spatial join county attributes to the buildings. \n",
    "\n",
    "*this worked* use 'within' instead of 'intersect'. 'intersect' is *very slow*. However, within doesn't get buildings that cross a county line, so afterward we'll isolate nulls (aka buildings that did not fall \"within\", and run an intersect sjoin on just those with the counties, then addend (pd.concat) them back to the individual county layers."
   ]
  },
  {
   "cell_type": "code",
   "execution_count": 92,
   "metadata": {},
   "outputs": [],
   "source": [
    "CO_footprints = gpd.sjoin(buildings, Colorado_Counties, how='left', op='within')"
   ]
  },
  {
   "cell_type": "code",
   "execution_count": 93,
   "metadata": {},
   "outputs": [
    {
     "data": {
      "text/plain": [
       "2080808"
      ]
     },
     "execution_count": 93,
     "metadata": {},
     "output_type": "execute_result"
    }
   ],
   "source": [
    "len(CO_footprints)"
   ]
  },
  {
   "cell_type": "code",
   "execution_count": 94,
   "metadata": {},
   "outputs": [
    {
     "data": {
      "text/plain": [
       "geometry         0\n",
       "index_right    384\n",
       "NAMELSAD       384\n",
       "dtype: int64"
      ]
     },
     "execution_count": 94,
     "metadata": {},
     "output_type": "execute_result"
    }
   ],
   "source": [
    "CO_footprints.isna().sum()"
   ]
  },
  {
   "cell_type": "code",
   "execution_count": 95,
   "metadata": {
    "scrolled": true
   },
   "outputs": [],
   "source": [
    "CO_footprints.reset_index(inplace=True)"
   ]
  },
  {
   "cell_type": "markdown",
   "metadata": {},
   "source": [
    "Drop index_right column as that will mess things up later"
   ]
  },
  {
   "cell_type": "code",
   "execution_count": 96,
   "metadata": {},
   "outputs": [],
   "source": [
    "CO_footprints = CO_footprints.drop(['index_right'], axis = 1)"
   ]
  },
  {
   "cell_type": "markdown",
   "metadata": {},
   "source": [
    "Isolate the nulls:"
   ]
  },
  {
   "cell_type": "code",
   "execution_count": 97,
   "metadata": {},
   "outputs": [],
   "source": [
    "nulls = CO_footprints[CO_footprints.isna().any(axis=1)]"
   ]
  },
  {
   "cell_type": "markdown",
   "metadata": {},
   "source": [
    "__In case you want to look at the nulls:__"
   ]
  },
  {
   "cell_type": "code",
   "execution_count": 17,
   "metadata": {},
   "outputs": [],
   "source": [
    "nulls.to_file('Colorado_Microsoft_Footprints\\\\nulls.geojson', driver='GeoJSON')"
   ]
  },
  {
   "cell_type": "markdown",
   "metadata": {},
   "source": [
    "Drop the 'NAMELSAD' column as this is filled with NaNs anyway and we will be adding it back via intersect"
   ]
  },
  {
   "cell_type": "code",
   "execution_count": 98,
   "metadata": {},
   "outputs": [],
   "source": [
    "nulls = nulls.drop(['NAMELSAD'], axis = 1)"
   ]
  },
  {
   "cell_type": "markdown",
   "metadata": {},
   "source": [
    "Spatial join the county attributes to the null values using intersect this time:"
   ]
  },
  {
   "cell_type": "code",
   "execution_count": 99,
   "metadata": {},
   "outputs": [],
   "source": [
    "nulls = gpd.sjoin(nulls, Colorado_Counties, how='left', op='intersects')"
   ]
  },
  {
   "cell_type": "markdown",
   "metadata": {},
   "source": [
    "Drop index right:"
   ]
  },
  {
   "cell_type": "code",
   "execution_count": 100,
   "metadata": {},
   "outputs": [],
   "source": [
    "nulls = nulls.drop(['index_right'], axis = 1)"
   ]
  },
  {
   "cell_type": "markdown",
   "metadata": {},
   "source": [
    "Create a county names list:"
   ]
  },
  {
   "cell_type": "code",
   "execution_count": 101,
   "metadata": {},
   "outputs": [],
   "source": [
    "countyList = list(Colorado_Counties['NAMELSAD'])"
   ]
  },
  {
   "cell_type": "markdown",
   "metadata": {},
   "source": [
    "### Time to split by county \n",
    "\n",
    "Using names in the county names list, create a variable of all of the buildings within a county, then repeat for that county in the (formerly) nulls list. Then use pd.concat to addend the formerly null buildings joined by 'intersect' to the earlier buildings joind by 'within'.\n",
    "\n",
    "Create a file name by replacing spaces in the county name with an underscore, and add \"buildings\" to the name\n",
    "\n",
    "Finally, write them all to a shapefile. They will appear in individual folders."
   ]
  },
  {
   "cell_type": "code",
   "execution_count": 104,
   "metadata": {},
   "outputs": [],
   "source": [
    "for name in countyList:\n",
    "    countyFootPrints = CO_footprints.loc[CO_footprints['NAMELSAD'] == name]\n",
    "    countyIntersects = nulls.loc[nulls['NAMELSAD'] == name]\n",
    "    countyFootPrints = pd.concat([countyFootPrints, countyIntersects], ignore_index=True)\n",
    "    countyFootPrints.rename(columns={'NAMELSAD':'County', 'index': 'FID'}, inplace = True)\n",
    "    fileName = name.replace(\" \",\"_\")+'_Buildings'\n",
    "    countyFootPrints.to_file('Colorado_Microsoft_Footprints\\\\'+fileName)"
   ]
  },
  {
   "cell_type": "markdown",
   "metadata": {},
   "source": [
    "### [END]"
   ]
  },
  {
   "cell_type": "code",
   "execution_count": null,
   "metadata": {},
   "outputs": [],
   "source": []
  },
  {
   "cell_type": "markdown",
   "metadata": {},
   "source": [
    "Just some tests I was running to get this working smoothly:"
   ]
  },
  {
   "cell_type": "code",
   "execution_count": 133,
   "metadata": {},
   "outputs": [],
   "source": [
    "countyName = 'El Paso County'"
   ]
  },
  {
   "cell_type": "code",
   "execution_count": 139,
   "metadata": {},
   "outputs": [
    {
     "name": "stdout",
     "output_type": "stream",
     "text": [
      "El_Paso_County\n"
     ]
    }
   ],
   "source": [
    "print (countyName.replace(\" \",\"_\"))"
   ]
  },
  {
   "cell_type": "code",
   "execution_count": 81,
   "metadata": {},
   "outputs": [],
   "source": [
    "Denver_buildings = CO_footprints.loc[CO_footprints['NAMELSAD'] == 'Denver County']"
   ]
  },
  {
   "cell_type": "code",
   "execution_count": 82,
   "metadata": {},
   "outputs": [
    {
     "data": {
      "text/html": [
       "<div>\n",
       "<style scoped>\n",
       "    .dataframe tbody tr th:only-of-type {\n",
       "        vertical-align: middle;\n",
       "    }\n",
       "\n",
       "    .dataframe tbody tr th {\n",
       "        vertical-align: top;\n",
       "    }\n",
       "\n",
       "    .dataframe thead th {\n",
       "        text-align: right;\n",
       "    }\n",
       "</style>\n",
       "<table border=\"1\" class=\"dataframe\">\n",
       "  <thead>\n",
       "    <tr style=\"text-align: right;\">\n",
       "      <th></th>\n",
       "      <th>index</th>\n",
       "      <th>geometry</th>\n",
       "      <th>NAMELSAD</th>\n",
       "    </tr>\n",
       "  </thead>\n",
       "  <tbody>\n",
       "    <tr>\n",
       "      <td>5579</td>\n",
       "      <td>5579</td>\n",
       "      <td>POLYGON ((-105.05600 39.78397, -105.05586 39.7...</td>\n",
       "      <td>Denver County</td>\n",
       "    </tr>\n",
       "    <tr>\n",
       "      <td>5580</td>\n",
       "      <td>5580</td>\n",
       "      <td>POLYGON ((-105.05480 39.78793, -105.05476 39.7...</td>\n",
       "      <td>Denver County</td>\n",
       "    </tr>\n",
       "    <tr>\n",
       "      <td>5581</td>\n",
       "      <td>5581</td>\n",
       "      <td>POLYGON ((-105.05890 39.79022, -105.05886 39.7...</td>\n",
       "      <td>Denver County</td>\n",
       "    </tr>\n",
       "    <tr>\n",
       "      <td>5593</td>\n",
       "      <td>5593</td>\n",
       "      <td>POLYGON ((-105.05192 39.77732, -105.05192 39.7...</td>\n",
       "      <td>Denver County</td>\n",
       "    </tr>\n",
       "    <tr>\n",
       "      <td>5594</td>\n",
       "      <td>5594</td>\n",
       "      <td>POLYGON ((-105.04097 39.78433, -105.04090 39.7...</td>\n",
       "      <td>Denver County</td>\n",
       "    </tr>\n",
       "    <tr>\n",
       "      <td>...</td>\n",
       "      <td>...</td>\n",
       "      <td>...</td>\n",
       "      <td>...</td>\n",
       "    </tr>\n",
       "    <tr>\n",
       "      <td>2071207</td>\n",
       "      <td>2071207</td>\n",
       "      <td>POLYGON ((-104.74482 39.77194, -104.74483 39.7...</td>\n",
       "      <td>Denver County</td>\n",
       "    </tr>\n",
       "    <tr>\n",
       "      <td>2071208</td>\n",
       "      <td>2071208</td>\n",
       "      <td>POLYGON ((-104.74968 39.77243, -104.74985 39.7...</td>\n",
       "      <td>Denver County</td>\n",
       "    </tr>\n",
       "    <tr>\n",
       "      <td>2071209</td>\n",
       "      <td>2071209</td>\n",
       "      <td>POLYGON ((-104.73803 39.76968, -104.73817 39.7...</td>\n",
       "      <td>Denver County</td>\n",
       "    </tr>\n",
       "    <tr>\n",
       "      <td>2071210</td>\n",
       "      <td>2071210</td>\n",
       "      <td>POLYGON ((-104.73801 39.77027, -104.73801 39.7...</td>\n",
       "      <td>Denver County</td>\n",
       "    </tr>\n",
       "    <tr>\n",
       "      <td>2071211</td>\n",
       "      <td>2071211</td>\n",
       "      <td>POLYGON ((-104.73750 39.77064, -104.73750 39.7...</td>\n",
       "      <td>Denver County</td>\n",
       "    </tr>\n",
       "  </tbody>\n",
       "</table>\n",
       "<p>175374 rows × 3 columns</p>\n",
       "</div>"
      ],
      "text/plain": [
       "           index                                           geometry  \\\n",
       "5579        5579  POLYGON ((-105.05600 39.78397, -105.05586 39.7...   \n",
       "5580        5580  POLYGON ((-105.05480 39.78793, -105.05476 39.7...   \n",
       "5581        5581  POLYGON ((-105.05890 39.79022, -105.05886 39.7...   \n",
       "5593        5593  POLYGON ((-105.05192 39.77732, -105.05192 39.7...   \n",
       "5594        5594  POLYGON ((-105.04097 39.78433, -105.04090 39.7...   \n",
       "...          ...                                                ...   \n",
       "2071207  2071207  POLYGON ((-104.74482 39.77194, -104.74483 39.7...   \n",
       "2071208  2071208  POLYGON ((-104.74968 39.77243, -104.74985 39.7...   \n",
       "2071209  2071209  POLYGON ((-104.73803 39.76968, -104.73817 39.7...   \n",
       "2071210  2071210  POLYGON ((-104.73801 39.77027, -104.73801 39.7...   \n",
       "2071211  2071211  POLYGON ((-104.73750 39.77064, -104.73750 39.7...   \n",
       "\n",
       "              NAMELSAD  \n",
       "5579     Denver County  \n",
       "5580     Denver County  \n",
       "5581     Denver County  \n",
       "5593     Denver County  \n",
       "5594     Denver County  \n",
       "...                ...  \n",
       "2071207  Denver County  \n",
       "2071208  Denver County  \n",
       "2071209  Denver County  \n",
       "2071210  Denver County  \n",
       "2071211  Denver County  \n",
       "\n",
       "[175374 rows x 3 columns]"
      ]
     },
     "execution_count": 82,
     "metadata": {},
     "output_type": "execute_result"
    }
   ],
   "source": [
    "Denver_buildings"
   ]
  },
  {
   "cell_type": "code",
   "execution_count": 83,
   "metadata": {},
   "outputs": [],
   "source": [
    "Denver_nulls = nulls.loc[nulls['NAMELSAD']=='Denver County']"
   ]
  },
  {
   "cell_type": "code",
   "execution_count": 84,
   "metadata": {},
   "outputs": [
    {
     "data": {
      "text/html": [
       "<div>\n",
       "<style scoped>\n",
       "    .dataframe tbody tr th:only-of-type {\n",
       "        vertical-align: middle;\n",
       "    }\n",
       "\n",
       "    .dataframe tbody tr th {\n",
       "        vertical-align: top;\n",
       "    }\n",
       "\n",
       "    .dataframe thead th {\n",
       "        text-align: right;\n",
       "    }\n",
       "</style>\n",
       "<table border=\"1\" class=\"dataframe\">\n",
       "  <thead>\n",
       "    <tr style=\"text-align: right;\">\n",
       "      <th></th>\n",
       "      <th>index</th>\n",
       "      <th>geometry</th>\n",
       "      <th>NAMELSAD</th>\n",
       "    </tr>\n",
       "  </thead>\n",
       "  <tbody>\n",
       "    <tr>\n",
       "      <td>7926</td>\n",
       "      <td>7926</td>\n",
       "      <td>POLYGON ((-104.79749 39.77345, -104.79777 39.7...</td>\n",
       "      <td>Denver County</td>\n",
       "    </tr>\n",
       "    <tr>\n",
       "      <td>8185</td>\n",
       "      <td>8185</td>\n",
       "      <td>POLYGON ((-104.92223 39.66578, -104.92204 39.6...</td>\n",
       "      <td>Denver County</td>\n",
       "    </tr>\n",
       "    <tr>\n",
       "      <td>8269</td>\n",
       "      <td>8269</td>\n",
       "      <td>POLYGON ((-104.89107 39.66743, -104.89082 39.6...</td>\n",
       "      <td>Denver County</td>\n",
       "    </tr>\n",
       "    <tr>\n",
       "      <td>45406</td>\n",
       "      <td>45406</td>\n",
       "      <td>POLYGON ((-105.03057 39.79184, -105.03057 39.7...</td>\n",
       "      <td>Denver County</td>\n",
       "    </tr>\n",
       "    <tr>\n",
       "      <td>48283</td>\n",
       "      <td>48283</td>\n",
       "      <td>POLYGON ((-104.84837 39.65862, -104.84817 39.6...</td>\n",
       "      <td>Denver County</td>\n",
       "    </tr>\n",
       "    <tr>\n",
       "      <td>...</td>\n",
       "      <td>...</td>\n",
       "      <td>...</td>\n",
       "      <td>...</td>\n",
       "    </tr>\n",
       "    <tr>\n",
       "      <td>2029280</td>\n",
       "      <td>2029280</td>\n",
       "      <td>POLYGON ((-105.06456 39.61458, -105.06456 39.6...</td>\n",
       "      <td>Denver County</td>\n",
       "    </tr>\n",
       "    <tr>\n",
       "      <td>2048648</td>\n",
       "      <td>2048648</td>\n",
       "      <td>POLYGON ((-104.93947 39.69817, -104.93905 39.6...</td>\n",
       "      <td>Denver County</td>\n",
       "    </tr>\n",
       "    <tr>\n",
       "      <td>2048783</td>\n",
       "      <td>2048783</td>\n",
       "      <td>POLYGON ((-104.93406 39.67122, -104.93406 39.6...</td>\n",
       "      <td>Denver County</td>\n",
       "    </tr>\n",
       "    <tr>\n",
       "      <td>2049631</td>\n",
       "      <td>2049631</td>\n",
       "      <td>POLYGON ((-105.03457 39.63364, -105.03457 39.6...</td>\n",
       "      <td>Denver County</td>\n",
       "    </tr>\n",
       "    <tr>\n",
       "      <td>2069639</td>\n",
       "      <td>2069639</td>\n",
       "      <td>POLYGON ((-105.09097 39.63683, -105.09105 39.6...</td>\n",
       "      <td>Denver County</td>\n",
       "    </tr>\n",
       "  </tbody>\n",
       "</table>\n",
       "<p>229 rows × 3 columns</p>\n",
       "</div>"
      ],
      "text/plain": [
       "           index                                           geometry  \\\n",
       "7926        7926  POLYGON ((-104.79749 39.77345, -104.79777 39.7...   \n",
       "8185        8185  POLYGON ((-104.92223 39.66578, -104.92204 39.6...   \n",
       "8269        8269  POLYGON ((-104.89107 39.66743, -104.89082 39.6...   \n",
       "45406      45406  POLYGON ((-105.03057 39.79184, -105.03057 39.7...   \n",
       "48283      48283  POLYGON ((-104.84837 39.65862, -104.84817 39.6...   \n",
       "...          ...                                                ...   \n",
       "2029280  2029280  POLYGON ((-105.06456 39.61458, -105.06456 39.6...   \n",
       "2048648  2048648  POLYGON ((-104.93947 39.69817, -104.93905 39.6...   \n",
       "2048783  2048783  POLYGON ((-104.93406 39.67122, -104.93406 39.6...   \n",
       "2049631  2049631  POLYGON ((-105.03457 39.63364, -105.03457 39.6...   \n",
       "2069639  2069639  POLYGON ((-105.09097 39.63683, -105.09105 39.6...   \n",
       "\n",
       "              NAMELSAD  \n",
       "7926     Denver County  \n",
       "8185     Denver County  \n",
       "8269     Denver County  \n",
       "45406    Denver County  \n",
       "48283    Denver County  \n",
       "...                ...  \n",
       "2029280  Denver County  \n",
       "2048648  Denver County  \n",
       "2048783  Denver County  \n",
       "2049631  Denver County  \n",
       "2069639  Denver County  \n",
       "\n",
       "[229 rows x 3 columns]"
      ]
     },
     "execution_count": 84,
     "metadata": {},
     "output_type": "execute_result"
    }
   ],
   "source": [
    "Denver_nulls"
   ]
  },
  {
   "cell_type": "code",
   "execution_count": 85,
   "metadata": {},
   "outputs": [],
   "source": [
    "Denver_buildings = pd.concat([Denver_buildings,Denver_nulls], ignore_index=True)"
   ]
  },
  {
   "cell_type": "code",
   "execution_count": 86,
   "metadata": {},
   "outputs": [
    {
     "data": {
      "text/plain": [
       "175603"
      ]
     },
     "execution_count": 86,
     "metadata": {},
     "output_type": "execute_result"
    }
   ],
   "source": [
    "len(Denver_buildings)"
   ]
  },
  {
   "cell_type": "code",
   "execution_count": 88,
   "metadata": {},
   "outputs": [
    {
     "data": {
      "text/html": [
       "<div>\n",
       "<style scoped>\n",
       "    .dataframe tbody tr th:only-of-type {\n",
       "        vertical-align: middle;\n",
       "    }\n",
       "\n",
       "    .dataframe tbody tr th {\n",
       "        vertical-align: top;\n",
       "    }\n",
       "\n",
       "    .dataframe thead th {\n",
       "        text-align: right;\n",
       "    }\n",
       "</style>\n",
       "<table border=\"1\" class=\"dataframe\">\n",
       "  <thead>\n",
       "    <tr style=\"text-align: right;\">\n",
       "      <th></th>\n",
       "      <th>index</th>\n",
       "      <th>geometry</th>\n",
       "      <th>NAMELSAD</th>\n",
       "    </tr>\n",
       "  </thead>\n",
       "  <tbody>\n",
       "    <tr>\n",
       "      <td>0</td>\n",
       "      <td>5579</td>\n",
       "      <td>POLYGON ((-105.05600 39.78397, -105.05586 39.7...</td>\n",
       "      <td>Denver County</td>\n",
       "    </tr>\n",
       "    <tr>\n",
       "      <td>1</td>\n",
       "      <td>5580</td>\n",
       "      <td>POLYGON ((-105.05480 39.78793, -105.05476 39.7...</td>\n",
       "      <td>Denver County</td>\n",
       "    </tr>\n",
       "    <tr>\n",
       "      <td>2</td>\n",
       "      <td>5581</td>\n",
       "      <td>POLYGON ((-105.05890 39.79022, -105.05886 39.7...</td>\n",
       "      <td>Denver County</td>\n",
       "    </tr>\n",
       "    <tr>\n",
       "      <td>3</td>\n",
       "      <td>5593</td>\n",
       "      <td>POLYGON ((-105.05192 39.77732, -105.05192 39.7...</td>\n",
       "      <td>Denver County</td>\n",
       "    </tr>\n",
       "    <tr>\n",
       "      <td>4</td>\n",
       "      <td>5594</td>\n",
       "      <td>POLYGON ((-105.04097 39.78433, -105.04090 39.7...</td>\n",
       "      <td>Denver County</td>\n",
       "    </tr>\n",
       "    <tr>\n",
       "      <td>...</td>\n",
       "      <td>...</td>\n",
       "      <td>...</td>\n",
       "      <td>...</td>\n",
       "    </tr>\n",
       "    <tr>\n",
       "      <td>175598</td>\n",
       "      <td>2029280</td>\n",
       "      <td>POLYGON ((-105.06456 39.61458, -105.06456 39.6...</td>\n",
       "      <td>Denver County</td>\n",
       "    </tr>\n",
       "    <tr>\n",
       "      <td>175599</td>\n",
       "      <td>2048648</td>\n",
       "      <td>POLYGON ((-104.93947 39.69817, -104.93905 39.6...</td>\n",
       "      <td>Denver County</td>\n",
       "    </tr>\n",
       "    <tr>\n",
       "      <td>175600</td>\n",
       "      <td>2048783</td>\n",
       "      <td>POLYGON ((-104.93406 39.67122, -104.93406 39.6...</td>\n",
       "      <td>Denver County</td>\n",
       "    </tr>\n",
       "    <tr>\n",
       "      <td>175601</td>\n",
       "      <td>2049631</td>\n",
       "      <td>POLYGON ((-105.03457 39.63364, -105.03457 39.6...</td>\n",
       "      <td>Denver County</td>\n",
       "    </tr>\n",
       "    <tr>\n",
       "      <td>175602</td>\n",
       "      <td>2069639</td>\n",
       "      <td>POLYGON ((-105.09097 39.63683, -105.09105 39.6...</td>\n",
       "      <td>Denver County</td>\n",
       "    </tr>\n",
       "  </tbody>\n",
       "</table>\n",
       "<p>175603 rows × 3 columns</p>\n",
       "</div>"
      ],
      "text/plain": [
       "          index                                           geometry  \\\n",
       "0          5579  POLYGON ((-105.05600 39.78397, -105.05586 39.7...   \n",
       "1          5580  POLYGON ((-105.05480 39.78793, -105.05476 39.7...   \n",
       "2          5581  POLYGON ((-105.05890 39.79022, -105.05886 39.7...   \n",
       "3          5593  POLYGON ((-105.05192 39.77732, -105.05192 39.7...   \n",
       "4          5594  POLYGON ((-105.04097 39.78433, -105.04090 39.7...   \n",
       "...         ...                                                ...   \n",
       "175598  2029280  POLYGON ((-105.06456 39.61458, -105.06456 39.6...   \n",
       "175599  2048648  POLYGON ((-104.93947 39.69817, -104.93905 39.6...   \n",
       "175600  2048783  POLYGON ((-104.93406 39.67122, -104.93406 39.6...   \n",
       "175601  2049631  POLYGON ((-105.03457 39.63364, -105.03457 39.6...   \n",
       "175602  2069639  POLYGON ((-105.09097 39.63683, -105.09105 39.6...   \n",
       "\n",
       "             NAMELSAD  \n",
       "0       Denver County  \n",
       "1       Denver County  \n",
       "2       Denver County  \n",
       "3       Denver County  \n",
       "4       Denver County  \n",
       "...               ...  \n",
       "175598  Denver County  \n",
       "175599  Denver County  \n",
       "175600  Denver County  \n",
       "175601  Denver County  \n",
       "175602  Denver County  \n",
       "\n",
       "[175603 rows x 3 columns]"
      ]
     },
     "execution_count": 88,
     "metadata": {},
     "output_type": "execute_result"
    }
   ],
   "source": [
    "Denver_buildings"
   ]
  },
  {
   "cell_type": "code",
   "execution_count": 90,
   "metadata": {},
   "outputs": [],
   "source": [
    "Denver_buildings.rename(columns={'NAMELSAD':'County', 'index': 'FID'}, inplace = True)"
   ]
  },
  {
   "cell_type": "code",
   "execution_count": 91,
   "metadata": {},
   "outputs": [
    {
     "data": {
      "text/html": [
       "<div>\n",
       "<style scoped>\n",
       "    .dataframe tbody tr th:only-of-type {\n",
       "        vertical-align: middle;\n",
       "    }\n",
       "\n",
       "    .dataframe tbody tr th {\n",
       "        vertical-align: top;\n",
       "    }\n",
       "\n",
       "    .dataframe thead th {\n",
       "        text-align: right;\n",
       "    }\n",
       "</style>\n",
       "<table border=\"1\" class=\"dataframe\">\n",
       "  <thead>\n",
       "    <tr style=\"text-align: right;\">\n",
       "      <th></th>\n",
       "      <th>FID</th>\n",
       "      <th>geometry</th>\n",
       "      <th>County</th>\n",
       "    </tr>\n",
       "  </thead>\n",
       "  <tbody>\n",
       "    <tr>\n",
       "      <td>0</td>\n",
       "      <td>5579</td>\n",
       "      <td>POLYGON ((-105.05600 39.78397, -105.05586 39.7...</td>\n",
       "      <td>Denver County</td>\n",
       "    </tr>\n",
       "    <tr>\n",
       "      <td>1</td>\n",
       "      <td>5580</td>\n",
       "      <td>POLYGON ((-105.05480 39.78793, -105.05476 39.7...</td>\n",
       "      <td>Denver County</td>\n",
       "    </tr>\n",
       "    <tr>\n",
       "      <td>2</td>\n",
       "      <td>5581</td>\n",
       "      <td>POLYGON ((-105.05890 39.79022, -105.05886 39.7...</td>\n",
       "      <td>Denver County</td>\n",
       "    </tr>\n",
       "    <tr>\n",
       "      <td>3</td>\n",
       "      <td>5593</td>\n",
       "      <td>POLYGON ((-105.05192 39.77732, -105.05192 39.7...</td>\n",
       "      <td>Denver County</td>\n",
       "    </tr>\n",
       "    <tr>\n",
       "      <td>4</td>\n",
       "      <td>5594</td>\n",
       "      <td>POLYGON ((-105.04097 39.78433, -105.04090 39.7...</td>\n",
       "      <td>Denver County</td>\n",
       "    </tr>\n",
       "    <tr>\n",
       "      <td>...</td>\n",
       "      <td>...</td>\n",
       "      <td>...</td>\n",
       "      <td>...</td>\n",
       "    </tr>\n",
       "    <tr>\n",
       "      <td>175598</td>\n",
       "      <td>2029280</td>\n",
       "      <td>POLYGON ((-105.06456 39.61458, -105.06456 39.6...</td>\n",
       "      <td>Denver County</td>\n",
       "    </tr>\n",
       "    <tr>\n",
       "      <td>175599</td>\n",
       "      <td>2048648</td>\n",
       "      <td>POLYGON ((-104.93947 39.69817, -104.93905 39.6...</td>\n",
       "      <td>Denver County</td>\n",
       "    </tr>\n",
       "    <tr>\n",
       "      <td>175600</td>\n",
       "      <td>2048783</td>\n",
       "      <td>POLYGON ((-104.93406 39.67122, -104.93406 39.6...</td>\n",
       "      <td>Denver County</td>\n",
       "    </tr>\n",
       "    <tr>\n",
       "      <td>175601</td>\n",
       "      <td>2049631</td>\n",
       "      <td>POLYGON ((-105.03457 39.63364, -105.03457 39.6...</td>\n",
       "      <td>Denver County</td>\n",
       "    </tr>\n",
       "    <tr>\n",
       "      <td>175602</td>\n",
       "      <td>2069639</td>\n",
       "      <td>POLYGON ((-105.09097 39.63683, -105.09105 39.6...</td>\n",
       "      <td>Denver County</td>\n",
       "    </tr>\n",
       "  </tbody>\n",
       "</table>\n",
       "<p>175603 rows × 3 columns</p>\n",
       "</div>"
      ],
      "text/plain": [
       "            FID                                           geometry  \\\n",
       "0          5579  POLYGON ((-105.05600 39.78397, -105.05586 39.7...   \n",
       "1          5580  POLYGON ((-105.05480 39.78793, -105.05476 39.7...   \n",
       "2          5581  POLYGON ((-105.05890 39.79022, -105.05886 39.7...   \n",
       "3          5593  POLYGON ((-105.05192 39.77732, -105.05192 39.7...   \n",
       "4          5594  POLYGON ((-105.04097 39.78433, -105.04090 39.7...   \n",
       "...         ...                                                ...   \n",
       "175598  2029280  POLYGON ((-105.06456 39.61458, -105.06456 39.6...   \n",
       "175599  2048648  POLYGON ((-104.93947 39.69817, -104.93905 39.6...   \n",
       "175600  2048783  POLYGON ((-104.93406 39.67122, -104.93406 39.6...   \n",
       "175601  2049631  POLYGON ((-105.03457 39.63364, -105.03457 39.6...   \n",
       "175602  2069639  POLYGON ((-105.09097 39.63683, -105.09105 39.6...   \n",
       "\n",
       "               County  \n",
       "0       Denver County  \n",
       "1       Denver County  \n",
       "2       Denver County  \n",
       "3       Denver County  \n",
       "4       Denver County  \n",
       "...               ...  \n",
       "175598  Denver County  \n",
       "175599  Denver County  \n",
       "175600  Denver County  \n",
       "175601  Denver County  \n",
       "175602  Denver County  \n",
       "\n",
       "[175603 rows x 3 columns]"
      ]
     },
     "execution_count": 91,
     "metadata": {},
     "output_type": "execute_result"
    }
   ],
   "source": [
    "Denver_buildings"
   ]
  },
  {
   "cell_type": "code",
   "execution_count": 126,
   "metadata": {},
   "outputs": [
    {
     "data": {
      "text/plain": [
       "<matplotlib.axes._subplots.AxesSubplot at 0x1e58c69a508>"
      ]
     },
     "execution_count": 126,
     "metadata": {},
     "output_type": "execute_result"
    },
    {
     "data": {
      "image/png": "[encoded data removed]",
      "text/plain": [
       "<Figure size 432x288 with 1 Axes>"
      ]
     },
     "metadata": {
      "needs_background": "light"
     },
     "output_type": "display_data"
    }
   ],
   "source": [
    "Denver_buildings.plot()"
   ]
  },
  {
   "cell_type": "code",
   "execution_count": 19,
   "metadata": {},
   "outputs": [],
   "source": [
    "Boulder_buildings = CO_footprints.loc[CO_footprints['NAMELSAD'] == 'Boulder County']"
   ]
  },
  {
   "cell_type": "code",
   "execution_count": 20,
   "metadata": {},
   "outputs": [
    {
     "data": {
      "text/plain": [
       "<matplotlib.axes._subplots.AxesSubplot at 0x1c3f074b588>"
      ]
     },
     "execution_count": 20,
     "metadata": {},
     "output_type": "execute_result"
    },
    {
     "data": {
      "image/png": "[encoded data removed]",
      "text/plain": [
       "<Figure size 720x720 with 1 Axes>"
      ]
     },
     "metadata": {
      "needs_background": "light"
     },
     "output_type": "display_data"
    }
   ],
   "source": [
    "Boulder_buildings.plot(color='blue', figsize=(10,10))"
   ]
  },
  {
   "cell_type": "code",
   "execution_count": null,
   "metadata": {},
   "outputs": [],
   "source": []
  },
  {
   "cell_type": "code",
   "execution_count": null,
   "metadata": {},
   "outputs": [],
   "source": []
  }
 ],
 "metadata": {
  "kernelspec": {
   "display_name": "Python 3",
   "language": "python",
   "name": "python3"
  },
  "language_info": {
   "codemirror_mode": {
    "name": "ipython",
    "version": 3
   },
   "file_extension": ".py",
   "mimetype": "text/x-python",
   "name": "python",
   "nbconvert_exporter": "python",
   "pygments_lexer": "ipython3",
   "version": "3.7.4"
  }
 },
 "nbformat": 4,
 "nbformat_minor": 2
}
