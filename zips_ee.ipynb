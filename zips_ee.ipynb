{
 "cells": [
  {
   "cell_type": "markdown",
   "id": "missing-capability",
   "metadata": {},
   "source": [
    "## Extracting Elevation Data for Zip Codes using Google Earth Engine\n",
    "\n",
    "This notebook demonstrates zonal statistics operations using [Google Earth Engine](https://earthengine.google.com/). To replicate, you will need to [sign up for an Earth Engine account](https://signup.earthengine.google.com/).  \n",
    "\n",
    "Zonal statistics calculate descriptive statistics across a zone of a [raster](https://desktop.arcgis.com/en/arcmap/10.3/manage-data/raster-and-images/what-is-raster-data.htm) data set, such as a satellite image or a digital elevation model (DEM). The zones, in this case, are boundaries of Zip Code Tabulation Areas. See Esri's description of [How Zonal Statistics Works](https://desktop.arcgis.com/en/arcmap/10.3/tools/spatial-analyst-toolbox/h-how-zonal-statistics-works.htm).\n",
    "\n",
    "The advantage of using Earth Engine for this is the ability to run the operation on the cloud instead of having to download and process a large amount of digital elevation models. Instead, Earth Engine has the [National Elevation Dataset (NED)](https://developers.google.com/earth-engine/datasets/catalog/USGS_NED) as well as [Zip Code Tabulation Areas (ZCTA)](https://developers.google.com/earth-engine/datasets/catalog/TIGER_2010_ZCTA5) vector data which you can manipulate on the cloud. The NED resolution is 1/3 arc-second, or about 10 meters at mid-latitudes. \n",
    "\n",
    "This notebook uses the Earth Engine Python API. This requires some [setup](https://developers.google.com/earth-engine/guides/python_install-conda) and [credentials](https://developers.google.com/earth-engine/guides/python_install-conda#get_credentials), but it's free.\n",
    "\n",
    "Note that you would find higher standard deviation for elevations within zip codes that are smaller in area but have a large elevation range. People that live in those zip codes probably live closer to the minimum, rather than the mean or maximum. \n",
    "\n",
    "#### Start by importing the following libraries:"
   ]
  },
  {
   "cell_type": "code",
   "execution_count": 2,
   "id": "allied-devil",
   "metadata": {},
   "outputs": [],
   "source": [
    "import ee # earth engine\n",
    "import pandas as pd\n",
    "import os\n",
    "import csv"
   ]
  },
  {
   "cell_type": "markdown",
   "id": "seeing-calvin",
   "metadata": {},
   "source": [
    "##### You must initialize Earth Engine first:"
   ]
  },
  {
   "cell_type": "code",
   "execution_count": 3,
   "id": "usual-keyboard",
   "metadata": {},
   "outputs": [],
   "source": [
    "ee.Initialize()"
   ]
  },
  {
   "cell_type": "markdown",
   "id": "toxic-template",
   "metadata": {},
   "source": [
    "Here I navigate to a folder that contains a csv with about 600 zip codes:"
   ]
  },
  {
   "cell_type": "code",
   "execution_count": 5,
   "id": "portable-action",
   "metadata": {},
   "outputs": [],
   "source": [
    "os.chdir('C://users//phwh9568//Zips')"
   ]
  },
  {
   "cell_type": "markdown",
   "id": "clinical-lawsuit",
   "metadata": {},
   "source": [
    "#### Make some variables out of the elevation and zip code data:"
   ]
  },
  {
   "cell_type": "code",
   "execution_count": 6,
   "id": "intense-utilization",
   "metadata": {},
   "outputs": [],
   "source": [
    "dataset = ee.Image('USGS/NED') # make a variable 'dataset' out of the USGS/NED dataset. \n",
    "elev = dataset.select('elevation') # select elevation from the NED dataset to a new variable 'elev'.\n",
    "zips = ee.FeatureCollection('TIGER/2010/ZCTA5') # make 'zips' variable out of the ZCTA vecor data.\n",
    "study_zips = pd.read_csv('med_zips_states.csv', dtype={'Zip':str}) # import the study-specific csv of zip codes into a pandas dataframe "
   ]
  },
  {
   "cell_type": "markdown",
   "id": "congressional-subscriber",
   "metadata": {},
   "source": [
    "#### Make a list out of the study zip codes:\n",
    "We will iterate over these."
   ]
  },
  {
   "cell_type": "code",
   "execution_count": 7,
   "id": "ultimate-auction",
   "metadata": {},
   "outputs": [],
   "source": [
    "zipList = study_zips.Zip.to_list()"
   ]
  },
  {
   "cell_type": "markdown",
   "id": "passing-grill",
   "metadata": {},
   "source": [
    "#### Here we will open an output csv which we will write our output data into and iterate over the zip codes to calculate zonal statistics of elevation within each zip code.  \n",
    "For each input zip code, the loop will:\n",
    "1. Select the specific zip code's geometry from the ZCTA vector data\n",
    "2. Use the Earth Engine [reduceRegion](https://developers.google.com/earth-engine/guides/reducers_reduce_region) function to perform a zonal statistics operation. This will use the boundary of a zip code and calculate descriptive statistics of the elevation data that falls within that zip code's boundaries.\n",
    "3. Read the results\n",
    "4. Write the results into the output csv"
   ]
  },
  {
   "cell_type": "code",
   "execution_count": 45,
   "id": "coastal-treasure",
   "metadata": {},
   "outputs": [],
   "source": [
    "with open('output.csv', 'w', newline='', encoding='utf-8') as f:\n",
    "    writer=csv.writer(f)\n",
    "    writer.writerow(['Zip', 'MeanElev', 'MedianElev', 'ModeElev', 'MinElev', 'MaxElev', 'StdDevElev'])\n",
    "    \n",
    "    for zipCode in zipList:\n",
    "        \n",
    "        # use study zip to select corresponding vector geometry\n",
    "        z = zips.filter(\"ZCTA5CE10=='{}'\".format(zipCode))\n",
    "        \n",
    "        # compute mean elevation for the zip code\n",
    "        elMean = elev.reduceRegion(\n",
    "            reducer=ee.Reducer.mean(),\n",
    "            geometry = z.geometry(),\n",
    "            scale = 100)\n",
    "        zipElMean= elMean.getInfo()['elevation']\n",
    "        \n",
    "        # compute median elevation for the zip code\n",
    "        elMed = elev.reduceRegion(\n",
    "            reducer=ee.Reducer.median(),\n",
    "            geometry = z.geometry(),\n",
    "            scale = 100)\n",
    "        zipElMed= elMed.getInfo()['elevation']\n",
    "\n",
    "        # compute mode elevation for the zip code\n",
    "        elMode = elev.reduceRegion(\n",
    "            reducer=ee.Reducer.mode(),\n",
    "            geometry = z.geometry(),\n",
    "            scale = 100)\n",
    "        zipElMode= elMode.getInfo()['elevation']\n",
    "        \n",
    "        # compute min & max elevation for the zip code\n",
    "        elMinMax = elev.reduceRegion(\n",
    "            reducer=ee.Reducer.minMax(),\n",
    "            geometry = z.geometry(),\n",
    "            scale = 100)\n",
    "        zipElMin= elMinMax.getInfo()['elevation_min']\n",
    "        zipElMax= elMinMax.getInfo()['elevation_max']\n",
    "\n",
    "        # compute standard deviation elevation for the zip code\n",
    "        elStdDev = elev.reduceRegion(\n",
    "            reducer=ee.Reducer.stdDev(),\n",
    "            geometry = z.geometry(),\n",
    "            scale = 100)\n",
    "        zipElStdDev= elStdDev.getInfo()['elevation']\n",
    "        \n",
    "        # write the results to a new row in the output csv\n",
    "        writer.writerow([zipCode, zipElMean, zipElMed, zipElMode, zipElMin, zipElMax, zipElStdDev])       "
   ]
  },
  {
   "cell_type": "markdown",
   "id": "inappropriate-program",
   "metadata": {},
   "source": [
    "## Done!\n",
    "#### Review the output.csv for the results."
   ]
  }
 ],
 "metadata": {
  "kernelspec": {
   "display_name": "Python 3",
   "language": "python",
   "name": "python3"
  },
  "language_info": {
   "codemirror_mode": {
    "name": "ipython",
    "version": 3
   },
   "file_extension": ".py",
   "mimetype": "text/x-python",
   "name": "python",
   "nbconvert_exporter": "python",
   "pygments_lexer": "ipython3",
   "version": "3.7.4"
  }
 },
 "nbformat": 4,
 "nbformat_minor": 5
}
